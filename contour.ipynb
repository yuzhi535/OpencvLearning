{
 "cells": [
  {
   "cell_type": "markdown",
   "source": [
    "# 轮廓\n",
    "- 简单来说，轮廓即包围边界的连续点所形成的曲线，有相同的颜色和粗细。\n",
    "- 轮廓适合形状分析、目标检测和识别。\n",
    "\n",
    "\n",
    "## 要点\n",
    "1. 为了准确，尽量使用二值化图像进行轮廓检测\n",
    "2. findContours函数从3.2版本开始不再修改原图像，而是返回新图像。\n",
    "3. 应该被检测的物体颜色是白色的，背景是黑色的\n",
    "\n",
    "\n",
    "## 步骤\n",
    "1. 二值化图像  (threshold函数)\n",
    "2. 找出轮廓   (findContours函数)\n",
    "3. 画出轮廓   (drawContours函数)"
   ],
   "metadata": {
    "collapsed": false,
    "pycharm": {
     "name": "#%% md\n"
    }
   }
  },
  {
   "cell_type": "code",
   "execution_count": 2,
   "outputs": [],
   "source": [
    "import cv2 as cv\n",
    "import matplotlib.pyplot as plt\n",
    "import numpy as np"
   ],
   "metadata": {
    "collapsed": false,
    "pycharm": {
     "name": "#%%\n"
    }
   }
  },
  {
   "cell_type": "code",
   "execution_count": 7,
   "outputs": [
    {
     "data": {
      "text/plain": "<Figure size 432x288 with 1 Axes>",
      "image/png": "[encoded data removed]"
     },
     "metadata": {
      "needs_background": "light"
     },
     "output_type": "display_data"
    }
   ],
   "source": [
    "# 简单构造一个轮廓鲜明的图像\n",
    "img = np.zeros((1000, 1000, 3), dtype=np.uint8)\n",
    "\n",
    "img[200:800, 200:800, 0] = 255\n",
    "img[200:800, 200:800, 1] = 123\n",
    "img[200:800, 200:800, 2] = 123\n",
    "\n",
    "img[400:600, 400:600, 0] = 123\n",
    "img[400:600, 400:600, 1] = 123\n",
    "img[400:600, 400:600, 2] = 123\n",
    "\n",
    "plt.title('origin')\n",
    "plt.imshow(img)\n",
    "plt.show()\n",
    "\n",
    "# cv.imwrite('test.png', img)"
   ],
   "metadata": {
    "collapsed": false,
    "pycharm": {
     "name": "#%%\n"
    }
   }
  },
  {
   "cell_type": "code",
   "execution_count": 8,
   "outputs": [
    {
     "data": {
      "text/plain": "<Figure size 432x288 with 2 Axes>",
      "image/png": "[encoded data removed]"
     },
     "metadata": {
      "needs_background": "light"
     },
     "output_type": "display_data"
    }
   ],
   "source": [
    "test_img = cv.cvtColor(img, cv.COLOR_RGB2GRAY)\n",
    "# test_img = img\n",
    "ret, output = cv.threshold(test_img, 75, 255, cv.THRESH_TOZERO)\n",
    "\n",
    "plt.subplot(1, 2, 1)\n",
    "plt.imshow(test_img, cmap='gray')\n",
    "\n",
    "plt.subplot(1, 2, 2)\n",
    "plt.imshow(output, cmap='gray')\n",
    "plt.show()"
   ],
   "metadata": {
    "collapsed": false,
    "pycharm": {
     "name": "#%%\n"
    }
   }
  },
  {
   "cell_type": "code",
   "execution_count": 16,
   "outputs": [
    {
     "data": {
      "text/plain": "<Figure size 432x288 with 1 Axes>",
      "image/png": "[encoded data removed]"
     },
     "metadata": {
      "needs_background": "light"
     },
     "output_type": "display_data"
    }
   ],
   "source": [
    "# 3.x版本返回三个参数，4.x版本返回2个参数\n",
    "contours, hierarchy = cv.findContours(output, cv.RETR_TREE, cv.CHAIN_APPROX_SIMPLE)\n",
    "\n",
    "test_img = img\n",
    "\n",
    "# 这里注意和OpenCV文档不一样的地方\n",
    "# 因为文档里面说的是contours[3]，而我这里面因为图片有所差别，检测出来的contour的数量并没有4个，只有一个\n",
    "# 最通用的做法就是使用contours[len(contours)-1]\n",
    "cnt = contours[len(contours) - 1]  # cnt得到某个轮廓\n",
    "out = cv.drawContours(test_img, [cnt], 0, (0, 255, 0), 3)  # 第三个参数若非-1表示所有轮廓\n",
    "\n",
    "plt.imshow(out)\n",
    "plt.show()"
   ],
   "metadata": {
    "collapsed": false,
    "pycharm": {
     "name": "#%%\n"
    }
   }
  },
  {
   "cell_type": "markdown",
   "source": [
    "## 轮廓特征\n",
    "- 矩 (moment)\n",
    "    - 计算重心\n",
    "- 轮廓面积 (contour area)\n",
    "- 轮廓周长 (contour perimeter)\n",
    "- 轮廓近似估测\n",
    "- 凸包\n",
    "- 边界矩阵\n",
    "- 最小封闭圆\n",
    "- 拟合椭圆\n",
    "- 拟合直线\n"
   ],
   "metadata": {
    "collapsed": false,
    "pycharm": {
     "name": "#%% md\n"
    }
   }
  },
  {
   "cell_type": "code",
   "execution_count": 19,
   "outputs": [
    {
     "name": "stdout",
     "output_type": "stream",
     "text": [
      "{'m00': 358801.0, 'm10': 179221099.5, 'm01': 179221099.5, 'm20': 100249119000.33333, 'm11': 89520939200.25, 'm02': 100249119000.33333, 'm30': 60791886560949.75, 'm21': 50074434940666.5, 'm12': 50074434940666.5, 'm03': 60791886560949.75, 'mu20': 10728179800.083328, 'mu11': 0.0, 'mu02': 10728179800.083328, 'mu30': 0.0078125, 'mu21': 0.0029296875, 'mu12': 0.0029296875, 'mu03': 0.0078125, 'nu20': 0.0833333333333333, 'nu11': 0.0, 'nu02': 0.0833333333333333, 'nu30': 1.0131084050471658e-16, 'nu21': 3.799156518926872e-17, 'nu12': 3.799156518926872e-17, 'nu03': 1.0131084050471658e-16}\n"
     ]
    }
   ],
   "source": [
    "# moment\n",
    "\n",
    "m = cv.moments(cnt)\n",
    "print(m)"
   ],
   "metadata": {
    "collapsed": false,
    "pycharm": {
     "name": "#%%\n"
    }
   }
  },
  {
   "cell_type": "code",
   "execution_count": 21,
   "outputs": [
    {
     "name": "stdout",
     "output_type": "stream",
     "text": [
      "x轴重心是 499.5, y轴重心是499.5\n"
     ]
    }
   ],
   "source": [
    "# 重心\n",
    "cx = m['m01'] / m['m00']\n",
    "cy = m['m10'] / m['m00']\n",
    "print(f'x轴重心是 {cx}, y轴重心是{cy}')"
   ],
   "metadata": {
    "collapsed": false,
    "pycharm": {
     "name": "#%%\n"
    }
   }
  },
  {
   "cell_type": "code",
   "execution_count": 23,
   "outputs": [
    {
     "name": "stdout",
     "output_type": "stream",
     "text": [
      "轮廓面积是358801.0\n",
      "轮廓面积是358801.0\n"
     ]
    }
   ],
   "source": [
    "# 轮廓面积\n",
    "# 第一种方法\n",
    "area = m['m00']\n",
    "print(f'轮廓面积是{area}')\n",
    "# 第二种方法\n",
    "area = cv.contourArea(cnt)\n",
    "print(f'轮廓面积是{area}')"
   ],
   "metadata": {
    "collapsed": false,
    "pycharm": {
     "name": "#%%\n"
    }
   }
  },
  {
   "cell_type": "code",
   "execution_count": 25,
   "outputs": [
    {
     "name": "stdout",
     "output_type": "stream",
     "text": [
      "轮廓周长是2396.0\n"
     ]
    }
   ],
   "source": [
    "perimeter = cv.arcLength(cnt, True)\n",
    "print(f'轮廓周长是{perimeter}')"
   ],
   "metadata": {
    "collapsed": false,
    "pycharm": {
     "name": "#%%\n"
    }
   }
  },
  {
   "cell_type": "code",
   "execution_count": null,
   "outputs": [],
   "source": [],
   "metadata": {
    "collapsed": false,
    "pycharm": {
     "name": "#%%\n"
    }
   }
  }
 ],
 "metadata": {
  "kernelspec": {
   "display_name": "Python 3",
   "language": "python",
   "name": "python3"
  },
  "language_info": {
   "codemirror_mode": {
    "name": "ipython",
    "version": 2
   },
   "file_extension": ".py",
   "mimetype": "text/x-python",
   "name": "python",
   "nbconvert_exporter": "python",
   "pygments_lexer": "ipython2",
   "version": "2.7.6"
  }
 },
 "nbformat": 4,
 "nbformat_minor": 0
}